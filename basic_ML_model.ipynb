{
 "cells": [
  {
   "cell_type": "code",
   "execution_count": 1,
   "metadata": {},
   "outputs": [],
   "source": [
    "# 导入必要的库\n",
    "import pandas as pd\n",
    "from sklearn.ensemble import RandomForestRegressor\n",
    "from sklearn.neural_network import MLPRegressor\n",
    "from sklearn.linear_model import LinearRegression\n",
    "from sklearn.svm import SVR\n",
    "from sklearn.model_selection import train_test_split\n",
    "from sklearn.metrics import mean_squared_error\n",
    "import numpy as np"
   ]
  },
  {
   "cell_type": "code",
   "execution_count": 2,
   "metadata": {},
   "outputs": [
    {
     "data": {
      "text/html": [
       "<div>\n",
       "<style scoped>\n",
       "    .dataframe tbody tr th:only-of-type {\n",
       "        vertical-align: middle;\n",
       "    }\n",
       "\n",
       "    .dataframe tbody tr th {\n",
       "        vertical-align: top;\n",
       "    }\n",
       "\n",
       "    .dataframe thead th {\n",
       "        text-align: right;\n",
       "    }\n",
       "</style>\n",
       "<table border=\"1\" class=\"dataframe\">\n",
       "  <thead>\n",
       "    <tr style=\"text-align: right;\">\n",
       "      <th></th>\n",
       "      <th>0</th>\n",
       "      <th>1</th>\n",
       "      <th>2</th>\n",
       "      <th>3</th>\n",
       "      <th>4</th>\n",
       "      <th>5</th>\n",
       "      <th>6</th>\n",
       "    </tr>\n",
       "  </thead>\n",
       "  <tbody>\n",
       "    <tr>\n",
       "      <th>0</th>\n",
       "      <td>date(日期)</td>\n",
       "      <td>Q(径流)</td>\n",
       "      <td>E(蒸发)</td>\n",
       "      <td>P(降水)</td>\n",
       "      <td>Year</td>\n",
       "      <td>Month</td>\n",
       "      <td>Day</td>\n",
       "    </tr>\n",
       "    <tr>\n",
       "      <th>1</th>\n",
       "      <td>1983/1/1</td>\n",
       "      <td>6.5</td>\n",
       "      <td>0.9</td>\n",
       "      <td>0.3</td>\n",
       "      <td>1983</td>\n",
       "      <td>1</td>\n",
       "      <td>1</td>\n",
       "    </tr>\n",
       "    <tr>\n",
       "      <th>2</th>\n",
       "      <td>1983/1/2</td>\n",
       "      <td>6.99</td>\n",
       "      <td>0</td>\n",
       "      <td>0.2</td>\n",
       "      <td>1983</td>\n",
       "      <td>1</td>\n",
       "      <td>2</td>\n",
       "    </tr>\n",
       "    <tr>\n",
       "      <th>3</th>\n",
       "      <td>1983/1/3</td>\n",
       "      <td>6.99</td>\n",
       "      <td>2.2</td>\n",
       "      <td>2.6</td>\n",
       "      <td>1983</td>\n",
       "      <td>1</td>\n",
       "      <td>3</td>\n",
       "    </tr>\n",
       "    <tr>\n",
       "      <th>4</th>\n",
       "      <td>1983/1/4</td>\n",
       "      <td>7.49</td>\n",
       "      <td>0.1</td>\n",
       "      <td>27.7</td>\n",
       "      <td>1983</td>\n",
       "      <td>1</td>\n",
       "      <td>4</td>\n",
       "    </tr>\n",
       "    <tr>\n",
       "      <th>...</th>\n",
       "      <td>...</td>\n",
       "      <td>...</td>\n",
       "      <td>...</td>\n",
       "      <td>...</td>\n",
       "      <td>...</td>\n",
       "      <td>...</td>\n",
       "      <td>...</td>\n",
       "    </tr>\n",
       "    <tr>\n",
       "      <th>1822</th>\n",
       "      <td>1987/12/27</td>\n",
       "      <td>4.52</td>\n",
       "      <td>0.1</td>\n",
       "      <td>2.4</td>\n",
       "      <td>1987</td>\n",
       "      <td>12</td>\n",
       "      <td>27</td>\n",
       "    </tr>\n",
       "    <tr>\n",
       "      <th>1823</th>\n",
       "      <td>1987/12/28</td>\n",
       "      <td>4.59</td>\n",
       "      <td>0.9</td>\n",
       "      <td>1.1</td>\n",
       "      <td>1987</td>\n",
       "      <td>12</td>\n",
       "      <td>28</td>\n",
       "    </tr>\n",
       "    <tr>\n",
       "      <th>1824</th>\n",
       "      <td>1987/12/29</td>\n",
       "      <td>1.38</td>\n",
       "      <td>1</td>\n",
       "      <td>1</td>\n",
       "      <td>1987</td>\n",
       "      <td>12</td>\n",
       "      <td>29</td>\n",
       "    </tr>\n",
       "    <tr>\n",
       "      <th>1825</th>\n",
       "      <td>1987/12/30</td>\n",
       "      <td>6.84</td>\n",
       "      <td>1.1</td>\n",
       "      <td>0</td>\n",
       "      <td>1987</td>\n",
       "      <td>12</td>\n",
       "      <td>30</td>\n",
       "    </tr>\n",
       "    <tr>\n",
       "      <th>1826</th>\n",
       "      <td>1987/12/31</td>\n",
       "      <td>5.74</td>\n",
       "      <td>0.4</td>\n",
       "      <td>0</td>\n",
       "      <td>1987</td>\n",
       "      <td>12</td>\n",
       "      <td>31</td>\n",
       "    </tr>\n",
       "  </tbody>\n",
       "</table>\n",
       "<p>1827 rows × 7 columns</p>\n",
       "</div>"
      ],
      "text/plain": [
       "               0      1      2      3     4      5    6\n",
       "0       date(日期)  Q(径流)  E(蒸发)  P(降水)  Year  Month  Day\n",
       "1       1983/1/1    6.5    0.9    0.3  1983      1    1\n",
       "2       1983/1/2   6.99      0    0.2  1983      1    2\n",
       "3       1983/1/3   6.99    2.2    2.6  1983      1    3\n",
       "4       1983/1/4   7.49    0.1   27.7  1983      1    4\n",
       "...          ...    ...    ...    ...   ...    ...  ...\n",
       "1822  1987/12/27   4.52    0.1    2.4  1987     12   27\n",
       "1823  1987/12/28   4.59    0.9    1.1  1987     12   28\n",
       "1824  1987/12/29   1.38      1      1  1987     12   29\n",
       "1825  1987/12/30   6.84    1.1      0  1987     12   30\n",
       "1826  1987/12/31   5.74    0.4      0  1987     12   31\n",
       "\n",
       "[1827 rows x 7 columns]"
      ]
     },
     "execution_count": 2,
     "metadata": {},
     "output_type": "execute_result"
    }
   ],
   "source": [
    "# 加载CSV数据\n",
    "data = pd.read_csv(\"./new_data.csv\", header=None)\n",
    "data"
   ]
  },
  {
   "cell_type": "code",
   "execution_count": 3,
   "metadata": {},
   "outputs": [],
   "source": [
    "data = data[1:]"
   ]
  },
  {
   "cell_type": "code",
   "execution_count": 4,
   "metadata": {},
   "outputs": [],
   "source": [
    "# 将数据拆分为特征和标签\n",
    "X = data.iloc[:, [2, 3, 4, 5, 6]].values\n",
    "y = data.iloc[:, 1].values"
   ]
  },
  {
   "cell_type": "code",
   "execution_count": 5,
   "metadata": {},
   "outputs": [],
   "source": [
    "# 将数据集拆分为训练集和测试集\n",
    "X_train, X_test, y_train, y_test = train_test_split(X, y, test_size=0.3, random_state=42)"
   ]
  },
  {
   "cell_type": "code",
   "execution_count": 6,
   "metadata": {},
   "outputs": [
    {
     "data": {
      "text/plain": [
       "RandomForestRegressor(random_state=0)"
      ]
     },
     "execution_count": 6,
     "metadata": {},
     "output_type": "execute_result"
    }
   ],
   "source": [
    "# 创建随机森林回归模型，并训练模型\n",
    "rf_reg = RandomForestRegressor(n_estimators=100, random_state=0)\n",
    "rf_reg.fit(X_train, y_train)"
   ]
  },
  {
   "cell_type": "code",
   "execution_count": 7,
   "metadata": {},
   "outputs": [],
   "source": [
    "# 对测试集进行预测\n",
    "rf_y_pred = rf_reg.predict(X_test)"
   ]
  },
  {
   "cell_type": "code",
   "execution_count": 8,
   "metadata": {},
   "outputs": [
    {
     "name": "stdout",
     "output_type": "stream",
     "text": [
      "随机森林回归模型的均方误差： 432.2376318853466\n"
     ]
    }
   ],
   "source": [
    "# 输出模型的均方误差\n",
    "rf_mse = mean_squared_error(y_test, rf_y_pred)\n",
    "print('随机森林回归模型的均方误差：', rf_mse)"
   ]
  },
  {
   "cell_type": "code",
   "execution_count": 9,
   "metadata": {},
   "outputs": [
    {
     "data": {
      "text/plain": [
       "LinearRegression()"
      ]
     },
     "execution_count": 9,
     "metadata": {},
     "output_type": "execute_result"
    }
   ],
   "source": [
    "# 创建多元线性回归模型，并训练模型\n",
    "multi_linear_reg = LinearRegression()\n",
    "multi_linear_reg.fit(X_train, y_train)"
   ]
  },
  {
   "cell_type": "code",
   "execution_count": 10,
   "metadata": {},
   "outputs": [],
   "source": [
    "# 对测试集进行预测\n",
    "multi_linear_y_pred = multi_linear_reg.predict(X_test)"
   ]
  },
  {
   "cell_type": "code",
   "execution_count": 11,
   "metadata": {},
   "outputs": [
    {
     "name": "stdout",
     "output_type": "stream",
     "text": [
      "多元线性回归模型的均方误差： 606.0780218365761\n"
     ]
    }
   ],
   "source": [
    "# 输出模型的均方误差\n",
    "multi_linear_mse = mean_squared_error(y_test, multi_linear_y_pred)\n",
    "print('多元线性回归模型的均方误差：', multi_linear_mse)"
   ]
  },
  {
   "cell_type": "code",
   "execution_count": 12,
   "metadata": {},
   "outputs": [
    {
     "data": {
      "text/plain": [
       "MLPRegressor(hidden_layer_sizes=(100, 50), max_iter=1000)"
      ]
     },
     "execution_count": 12,
     "metadata": {},
     "output_type": "execute_result"
    }
   ],
   "source": [
    "# 创建多层感知器模型，并训练模型\n",
    "mlp_reg = MLPRegressor(hidden_layer_sizes=(100, 50), activation='relu', solver='adam', max_iter=1000)\n",
    "mlp_reg.fit(X_train, y_train)"
   ]
  },
  {
   "cell_type": "code",
   "execution_count": 13,
   "metadata": {},
   "outputs": [],
   "source": [
    "# 对测试集进行预测\n",
    "mlp_y_pred = mlp_reg.predict(X_test)"
   ]
  },
  {
   "cell_type": "code",
   "execution_count": 14,
   "metadata": {},
   "outputs": [
    {
     "name": "stdout",
     "output_type": "stream",
     "text": [
      "多层感知器模型的均方误差： 637.259154602996\n"
     ]
    }
   ],
   "source": [
    "# 输出模型的均方误差\n",
    "mlp_mse = mean_squared_error(y_test, mlp_y_pred)\n",
    "print('多层感知器模型的均方误差：', mlp_mse)"
   ]
  },
  {
   "cell_type": "code",
   "execution_count": 15,
   "metadata": {},
   "outputs": [
    {
     "data": {
      "text/plain": [
       "SVR(C=100, gamma=0.1)"
      ]
     },
     "execution_count": 15,
     "metadata": {},
     "output_type": "execute_result"
    }
   ],
   "source": [
    "# 创建支持向量机模型，并训练模型\n",
    "svm_reg = SVR(kernel='rbf', C=100, gamma=0.1, epsilon=.1)\n",
    "svm_reg.fit(X_train, y_train)"
   ]
  },
  {
   "cell_type": "code",
   "execution_count": 16,
   "metadata": {},
   "outputs": [],
   "source": [
    "# 对测试集进行预测\n",
    "svm_y_pred = svm_reg.predict(X_test)"
   ]
  },
  {
   "cell_type": "code",
   "execution_count": 17,
   "metadata": {},
   "outputs": [
    {
     "name": "stdout",
     "output_type": "stream",
     "text": [
      "多层感知器模型的均方误差： 496.64842679118556\n"
     ]
    }
   ],
   "source": [
    "# 输出模型的均方误差\n",
    "svm_mse = mean_squared_error(y_test, svm_y_pred)\n",
    "print('多层感知器模型的均方误差：', svm_mse)"
   ]
  },
  {
   "cell_type": "code",
   "execution_count": 18,
   "metadata": {},
   "outputs": [],
   "source": [
    "# 相对误差绝对值的平均值（Mean Absolute Percentage Error，MAPE）\n",
    "def mean_absolute_percentage_error(y_true, y_pred):\n",
    "    return np.mean(np.abs((y_true - y_pred) / y_true)) * 100"
   ]
  },
  {
   "cell_type": "code",
   "execution_count": 19,
   "metadata": {},
   "outputs": [],
   "source": [
    "# Nash效率系数（Nash-Sutcliffe efficiency coefficient，NSE）\n",
    "def nash_sutcliffe_efficiency(y_true, y_pred):\n",
    "    numerator = np.sum((y_true - y_pred) ** 2)\n",
    "    denominator = np.sum((y_true - np.mean(y_true)) ** 2)\n",
    "    return 1 - numerator / denominator"
   ]
  },
  {
   "cell_type": "code",
   "execution_count": 20,
   "metadata": {},
   "outputs": [],
   "source": [
    "# 相对均方根误差（Root Mean Square Percentage Error，RMSPE）\n",
    "def root_mean_square_percentage_error(y_true, y_pred):\n",
    "    return np.sqrt(np.mean(np.square((y_true - y_pred) / y_true)))"
   ]
  },
  {
   "cell_type": "code",
   "execution_count": 21,
   "metadata": {},
   "outputs": [],
   "source": [
    "# 合格率（Accuracy）\n",
    "def accuracy(y_true, y_pred, tolerance=0.1):\n",
    "    errors = np.abs((y_true - y_pred) / y_true)\n",
    "    return np.sum(errors <= tolerance) / len(errors)"
   ]
  },
  {
   "cell_type": "code",
   "execution_count": 28,
   "metadata": {},
   "outputs": [
    {
     "data": {
      "text/plain": [
       "array([ 33.9 ,  32.8 ,   9.57,   9.08,   3.19,   8.5 ,   4.14,   5.62,\n",
       "        31.5 ,   5.7 ,   4.58,  58.7 ,  22.7 ,  28.1 ,  10.3 ,  28.6 ,\n",
       "         2.38,   5.89, 112.  ,  40.3 ,   3.79,   7.73,   4.78,   4.81,\n",
       "        15.8 ,  14.2 ,   3.89,   3.6 ,   9.68,   6.38,   3.83,  17.8 ,\n",
       "         8.12,   7.01,   2.43,  46.2 ,   3.38,  92.2 ,  12.7 ,  22.2 ,\n",
       "         2.47,   9.96,  28.1 ,   7.64,  17.2 ,   7.96,   4.12,   6.58,\n",
       "         3.24,   6.08,  13.3 ,   2.64,  13.5 ,   3.12,  19.3 ,   0.95,\n",
       "         1.88,   6.84,  22.9 ,   4.11,   9.86,   6.01,  10.9 ,  16.3 ,\n",
       "         0.71,   4.09,   9.04,  93.9 ,   8.08,  13.3 ,   5.52,   7.02,\n",
       "         3.77,   8.92,   3.08,   5.69,  31.6 ,  15.2 ,   3.02,  18.8 ,\n",
       "         6.23,  16.  ,  27.6 ,   1.66,   3.7 ,   6.71,  15.4 ,  72.9 ,\n",
       "        70.2 ,  13.1 ,   8.09,  36.5 ,  45.8 ,  15.3 ,   6.83,   5.3 ,\n",
       "         2.44,   4.51,  22.6 ,   8.26,   3.81,  13.9 ,   2.85,   4.31,\n",
       "         8.83,  60.  ,   3.34,  19.9 ,  39.7 ,  71.  ,   7.3 ,   8.64,\n",
       "         2.64,  11.4 ,  60.4 ,  13.3 ,  47.5 ,  41.4 ,   3.83,  19.7 ,\n",
       "         2.83,  45.2 ,   1.88,   5.91,  17.6 ,  40.9 ,   8.46,  43.8 ,\n",
       "         5.46,   2.82,   4.39,  33.2 ,   2.94,  23.4 ,   5.12,  13.6 ,\n",
       "         2.54,   3.32,   3.35,   7.95,  40.8 ,  21.1 ,   0.41,   5.34,\n",
       "         3.91,  15.9 ,   2.7 ,  19.1 ,   5.57,   2.3 ,   9.67,  20.4 ,\n",
       "        11.5 ,   3.31,  18.3 ,   0.25,  19.6 ,   2.81,  13.3 ,  42.4 ,\n",
       "        17.4 ,  47.9 ,   8.64,  73.3 ,  51.6 ,   7.78,  19.3 ,  26.9 ,\n",
       "         2.51,   5.12,  40.9 ,  34.5 ,   7.97,   7.98,  14.9 ,   8.93,\n",
       "        19.9 ,  34.8 ,  11.4 ,  20.7 ,  22.4 ,   1.99,  24.3 ,  39.5 ,\n",
       "        54.9 ,   5.45,   8.17,   2.66,   3.36,  66.9 ,  25.7 ,  21.7 ,\n",
       "        12.3 ,  13.7 ,  14.5 ,  14.5 ,  26.9 ,   7.24,   3.76,   7.75,\n",
       "        33.  ,   1.88,  66.8 ,   3.26,   2.89,   4.32,  22.4 ,   8.7 ,\n",
       "         8.64,   4.58,  11.6 ,   9.27,   9.6 ,   4.45,   9.73,   4.87,\n",
       "         2.47, 253.  ,  51.9 ,   3.22,  21.3 ,   8.59,  29.2 ,  22.5 ,\n",
       "        52.3 ,   6.22,   3.87,  24.5 , 107.  ,  10.4 ,   2.23,   4.05,\n",
       "         2.85,   3.71,  13.7 ,  37.4 ,   6.74,  15.8 ,  14.6 ,  19.9 ,\n",
       "        26.6 ,  48.7 ,  50.3 ,  44.2 ,  14.7 ,   6.73,   4.56,   3.63,\n",
       "         8.64,   5.62,   8.35,  11.8 ,  27.4 ,  34.8 ,   6.28,   6.25,\n",
       "         3.05,  18.5 ,  10.8 ,  10.2 ,   3.69,   3.03,  48.  ,  20.2 ,\n",
       "         1.88,   3.55,  13.4 ,   1.88,   3.44,   6.  ,   5.17,   3.03,\n",
       "         6.22,  13.  ,   6.45,  20.4 ,   4.98,  24.9 ,  10.7 ,  17.1 ,\n",
       "         0.42,   5.03,  14.9 ,   5.12,   2.9 ,   1.23,   8.15,   4.34,\n",
       "        18.7 ,   1.88,   3.58,   3.58,   4.82,  10.1 ,   4.19,  19.9 ,\n",
       "         6.3 ,   6.58,  12.6 ,  24.9 ,  31.8 ,   7.1 ,   3.8 ,  17.2 ,\n",
       "        19.  ,   4.19,   4.83,   4.1 ,  31.1 ,   5.84,   8.05,  11.8 ,\n",
       "         7.52,   3.08,  22.4 ,   9.13,  25.1 ,   9.51,  20.1 ,  15.3 ,\n",
       "        12.4 ,  48.7 ,   4.14,  12.  ,  43.6 ,   2.02,  74.7 ,   4.69,\n",
       "         4.87,  28.2 ,  24.7 ,  32.5 ,   8.41,  24.9 ,  20.6 ,   7.63,\n",
       "         6.45,   7.05,   2.92,   1.53,   5.12,  56.9 ,  51.1 ,   4.15,\n",
       "         5.86,  31.6 ,   2.71,   4.6 ,   2.75,   6.28,  23.9 ,   5.64,\n",
       "         3.68,   3.75,   5.62,  89.1 ,  19.7 ,  38.  ,  44.5 ,  42.9 ,\n",
       "         4.74,   7.43,  22.8 ,   7.32,  14.6 ,  20.  ,   4.14,  51.8 ,\n",
       "       240.  , 160.  ,   6.5 ,   6.44,  21.7 ,   2.7 ,   4.65,   5.81,\n",
       "         5.12,   4.51,   8.54,   6.57,   3.61,   3.41,   4.04,   3.06,\n",
       "        13.  , 115.  ,   7.89,  42.7 ,  21.  ,   8.83,   4.63,  22.7 ,\n",
       "         1.88,  50.8 ,   4.01, 105.  ,   6.89,   7.66,  26.9 ,  13.4 ,\n",
       "         5.12,   7.  ,   3.58,  13.9 ,  46.4 ,  12.8 ,   1.44,   2.99,\n",
       "        12.2 ,  88.1 ,  24.2 ,  32.4 ,  14.5 ,   4.89,   4.86,  30.1 ,\n",
       "         8.6 ,  22.  ,   5.39,   5.93,   4.09,  24.9 ,  71.5 ,   0.35,\n",
       "        32.9 ,   3.13,   5.58,   3.76,   8.64, 126.  ,   2.81,  12.2 ,\n",
       "         4.45,  82.6 ,   5.32, 170.  ,   6.41,   7.1 ,  50.1 ,  17.8 ,\n",
       "        20.1 ,   9.74,  24.8 ,   2.82,   7.07,  69.1 ,  33.3 ,  15.3 ,\n",
       "        25.1 ,  32.2 ,  22.7 ,   5.33,   5.73, 111.  ,  21.4 ,  20.7 ,\n",
       "        11.6 ,  12.3 ,  20.2 ,   6.22,   6.13,   2.77,   5.01,   9.44,\n",
       "         7.6 ,   2.35,  13.6 ,   6.93,   9.43,   8.21,   5.48,  16.1 ,\n",
       "        23.  ,   5.12,   7.1 ,   4.93,  26.1 ,   6.3 ,  74.9 ,   3.54,\n",
       "         5.56,   6.11,  26.2 , 118.  ,   2.78,   4.52,   2.72,   2.36,\n",
       "         7.49,  66.5 ,   3.25,   6.99,   9.77,  41.1 ,  14.8 ,   4.5 ,\n",
       "         9.04,   3.72,  15.9 ,   5.89,   7.43,  18.3 ,  30.  ,  20.7 ,\n",
       "        11.4 ,   3.1 ,  41.5 ,   4.48,  29.9 ,  18.6 ,   5.62,   8.07,\n",
       "         4.07,   3.29,   3.54,   5.02,   2.28,   2.22,   9.07,   3.12,\n",
       "         2.87,   8.82,  24.8 ,   8.96,   8.24,  65.7 ,   3.89,  12.6 ,\n",
       "        32.4 ,  26.5 , 102.  ,   7.1 ,   7.49,   3.69,   5.98,  16.3 ,\n",
       "         4.68,   3.73,  13.3 ,  59.  ,   3.67,  34.8 ,   2.46,   2.63,\n",
       "         4.63,   2.79,  17.2 ,   5.72])"
      ]
     },
     "execution_count": 28,
     "metadata": {},
     "output_type": "execute_result"
    }
   ],
   "source": [
    "np.set_printoptions(suppress = True)\n",
    "float_y_test = np.array([float(x) for x in y_test])\n",
    "float_y_test"
   ]
  },
  {
   "cell_type": "code",
   "execution_count": 23,
   "metadata": {},
   "outputs": [],
   "source": [
    "def index(y_pred = rf_y_pred):\n",
    "    mape = mean_absolute_percentage_error(float_y_test, y_pred)\n",
    "    nse = nash_sutcliffe_efficiency(float_y_test, y_pred)\n",
    "    rmspe = root_mean_square_percentage_error(float_y_test, y_pred)\n",
    "    acc = accuracy(float_y_test, y_pred)\n",
    "    print('MAPE:', mape)\n",
    "    print('NSE:', nse)\n",
    "    print('RMSPE:', rmspe)\n",
    "    print('Accuracy:', acc)"
   ]
  },
  {
   "cell_type": "code",
   "execution_count": 24,
   "metadata": {},
   "outputs": [
    {
     "name": "stdout",
     "output_type": "stream",
     "text": [
      "Random Forest index: \n",
      "MAPE: 81.82744263727048\n",
      "NSE: 0.3673663914697809\n",
      "RMSPE: 1.7600697161776628\n",
      "Accuracy: 0.17335766423357665\n"
     ]
    }
   ],
   "source": [
    "print(\"Random Forest index: \")\n",
    "index(rf_y_pred)"
   ]
  },
  {
   "cell_type": "code",
   "execution_count": 25,
   "metadata": {},
   "outputs": [
    {
     "name": "stdout",
     "output_type": "stream",
     "text": [
      "multi_linear index: \n",
      "MAPE: 215.45027694762524\n",
      "NSE: 0.1129293293300393\n",
      "RMSPE: 5.20058583895857\n",
      "Accuracy: 0.06386861313868614\n"
     ]
    }
   ],
   "source": [
    "print(\"multi_linear index: \")\n",
    "index(multi_linear_y_pred)"
   ]
  },
  {
   "cell_type": "code",
   "execution_count": 26,
   "metadata": {},
   "outputs": [
    {
     "name": "stdout",
     "output_type": "stream",
     "text": [
      "MLP index: \n",
      "MAPE: 176.62563520557217\n",
      "NSE: 0.06729185798346149\n",
      "RMSPE: 4.024084736886243\n",
      "Accuracy: 0.06386861313868614\n"
     ]
    }
   ],
   "source": [
    "print(\"MLP index: \")\n",
    "index(mlp_y_pred)"
   ]
  },
  {
   "cell_type": "code",
   "execution_count": 27,
   "metadata": {},
   "outputs": [
    {
     "name": "stdout",
     "output_type": "stream",
     "text": [
      "SVM index: \n",
      "MAPE: 92.30887284991672\n",
      "NSE: 0.2730931708993205\n",
      "RMSPE: 1.7339562074738426\n",
      "Accuracy: 0.13138686131386862\n"
     ]
    }
   ],
   "source": [
    "print(\"SVM index: \")\n",
    "index(svm_y_pred)"
   ]
  }
 ],
 "metadata": {
  "kernelspec": {
   "display_name": "runoff",
   "language": "python",
   "name": "python3"
  },
  "language_info": {
   "codemirror_mode": {
    "name": "ipython",
    "version": 3
   },
   "file_extension": ".py",
   "mimetype": "text/x-python",
   "name": "python",
   "nbconvert_exporter": "python",
   "pygments_lexer": "ipython3",
   "version": "3.7.16"
  },
  "orig_nbformat": 4
 },
 "nbformat": 4,
 "nbformat_minor": 2
}
