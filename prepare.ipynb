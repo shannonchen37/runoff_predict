{
 "cells": [
  {
   "cell_type": "code",
   "execution_count": 2,
   "metadata": {},
   "outputs": [],
   "source": [
    "import csv\n",
    "from datetime import datetime"
   ]
  },
  {
   "cell_type": "code",
   "execution_count": null,
   "metadata": {},
   "outputs": [],
   "source": [
    "with open('./runoff_datasets.csv', 'r') as file:\n",
    "    reader = csv.reader(file)\n",
    "    rows = [row for row in reader]\n",
    "\n",
    "header = rows[0]  # 获取列名\n",
    "rows = rows[1:]  # 获取数据行"
   ]
  },
  {
   "cell_type": "code",
   "execution_count": 8,
   "metadata": {},
   "outputs": [],
   "source": [
    "# 遍历每一行，将日期字符串转换为年、月、日三个特征\n",
    "for row in rows:\n",
    "    date_str = row[0]  # 获取日期字符串所在列的值\n",
    "    date_obj = datetime.strptime(date_str, \"%Y/%m/%d\")\n",
    "    year = date_obj.year\n",
    "    month = date_obj.month\n",
    "    day = date_obj.day\n",
    "    row.append(year)  # 将年份添加到该行的末尾\n",
    "    row.append(month)  # 将月份添加到该行的末尾\n",
    "    row.append(day)  # 将日添加到该行的末尾\n",
    "\n",
    "header += ['Year', 'Month', 'Day']  # 添加新的列名\n",
    "rows = [header] + rows  # 将新的列添加到数据行之前\n",
    "\n",
    "# 将新的数据写入CSV文件\n",
    "with open('new_data.csv', 'w', newline='') as file:\n",
    "    writer = csv.writer(file)\n",
    "    writer.writerows(rows)\n"
   ]
  }
 ],
 "metadata": {
  "kernelspec": {
   "display_name": "runoff",
   "language": "python",
   "name": "python3"
  },
  "language_info": {
   "codemirror_mode": {
    "name": "ipython",
    "version": 3
   },
   "file_extension": ".py",
   "mimetype": "text/x-python",
   "name": "python",
   "nbconvert_exporter": "python",
   "pygments_lexer": "ipython3",
   "version": "3.7.16"
  },
  "orig_nbformat": 4
 },
 "nbformat": 4,
 "nbformat_minor": 2
}
