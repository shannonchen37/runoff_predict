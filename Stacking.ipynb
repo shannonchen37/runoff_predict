{
 "cells": [
  {
   "cell_type": "code",
   "execution_count": 35,
   "metadata": {},
   "outputs": [],
   "source": [
    "import numpy as np\n",
    "import pandas as pd\n",
    "from sklearn.ensemble import RandomForestRegressor, GradientBoostingRegressor\n",
    "from sklearn.linear_model import LinearRegression\n",
    "from sklearn.model_selection import KFold\n",
    "from sklearn.metrics import mean_absolute_error\n",
    "from sklearn.model_selection import train_test_split"
   ]
  },
  {
   "cell_type": "code",
   "execution_count": 36,
   "metadata": {},
   "outputs": [
    {
     "data": {
      "text/html": [
       "<div>\n",
       "<style scoped>\n",
       "    .dataframe tbody tr th:only-of-type {\n",
       "        vertical-align: middle;\n",
       "    }\n",
       "\n",
       "    .dataframe tbody tr th {\n",
       "        vertical-align: top;\n",
       "    }\n",
       "\n",
       "    .dataframe thead th {\n",
       "        text-align: right;\n",
       "    }\n",
       "</style>\n",
       "<table border=\"1\" class=\"dataframe\">\n",
       "  <thead>\n",
       "    <tr style=\"text-align: right;\">\n",
       "      <th></th>\n",
       "      <th>0</th>\n",
       "      <th>1</th>\n",
       "      <th>2</th>\n",
       "      <th>3</th>\n",
       "      <th>4</th>\n",
       "      <th>5</th>\n",
       "      <th>6</th>\n",
       "    </tr>\n",
       "  </thead>\n",
       "  <tbody>\n",
       "    <tr>\n",
       "      <th>0</th>\n",
       "      <td>date(日期)</td>\n",
       "      <td>Q(径流)</td>\n",
       "      <td>E(蒸发)</td>\n",
       "      <td>P(降水)</td>\n",
       "      <td>Year</td>\n",
       "      <td>Month</td>\n",
       "      <td>Day</td>\n",
       "    </tr>\n",
       "    <tr>\n",
       "      <th>1</th>\n",
       "      <td>1983/1/1</td>\n",
       "      <td>6.5</td>\n",
       "      <td>0.9</td>\n",
       "      <td>0.3</td>\n",
       "      <td>1983</td>\n",
       "      <td>1</td>\n",
       "      <td>1</td>\n",
       "    </tr>\n",
       "    <tr>\n",
       "      <th>2</th>\n",
       "      <td>1983/1/2</td>\n",
       "      <td>6.99</td>\n",
       "      <td>0</td>\n",
       "      <td>0.2</td>\n",
       "      <td>1983</td>\n",
       "      <td>1</td>\n",
       "      <td>2</td>\n",
       "    </tr>\n",
       "    <tr>\n",
       "      <th>3</th>\n",
       "      <td>1983/1/3</td>\n",
       "      <td>6.99</td>\n",
       "      <td>2.2</td>\n",
       "      <td>2.6</td>\n",
       "      <td>1983</td>\n",
       "      <td>1</td>\n",
       "      <td>3</td>\n",
       "    </tr>\n",
       "    <tr>\n",
       "      <th>4</th>\n",
       "      <td>1983/1/4</td>\n",
       "      <td>7.49</td>\n",
       "      <td>0.1</td>\n",
       "      <td>27.7</td>\n",
       "      <td>1983</td>\n",
       "      <td>1</td>\n",
       "      <td>4</td>\n",
       "    </tr>\n",
       "    <tr>\n",
       "      <th>...</th>\n",
       "      <td>...</td>\n",
       "      <td>...</td>\n",
       "      <td>...</td>\n",
       "      <td>...</td>\n",
       "      <td>...</td>\n",
       "      <td>...</td>\n",
       "      <td>...</td>\n",
       "    </tr>\n",
       "    <tr>\n",
       "      <th>1822</th>\n",
       "      <td>1987/12/27</td>\n",
       "      <td>4.52</td>\n",
       "      <td>0.1</td>\n",
       "      <td>2.4</td>\n",
       "      <td>1987</td>\n",
       "      <td>12</td>\n",
       "      <td>27</td>\n",
       "    </tr>\n",
       "    <tr>\n",
       "      <th>1823</th>\n",
       "      <td>1987/12/28</td>\n",
       "      <td>4.59</td>\n",
       "      <td>0.9</td>\n",
       "      <td>1.1</td>\n",
       "      <td>1987</td>\n",
       "      <td>12</td>\n",
       "      <td>28</td>\n",
       "    </tr>\n",
       "    <tr>\n",
       "      <th>1824</th>\n",
       "      <td>1987/12/29</td>\n",
       "      <td>1.38</td>\n",
       "      <td>1</td>\n",
       "      <td>1</td>\n",
       "      <td>1987</td>\n",
       "      <td>12</td>\n",
       "      <td>29</td>\n",
       "    </tr>\n",
       "    <tr>\n",
       "      <th>1825</th>\n",
       "      <td>1987/12/30</td>\n",
       "      <td>6.84</td>\n",
       "      <td>1.1</td>\n",
       "      <td>0</td>\n",
       "      <td>1987</td>\n",
       "      <td>12</td>\n",
       "      <td>30</td>\n",
       "    </tr>\n",
       "    <tr>\n",
       "      <th>1826</th>\n",
       "      <td>1987/12/31</td>\n",
       "      <td>5.74</td>\n",
       "      <td>0.4</td>\n",
       "      <td>0</td>\n",
       "      <td>1987</td>\n",
       "      <td>12</td>\n",
       "      <td>31</td>\n",
       "    </tr>\n",
       "  </tbody>\n",
       "</table>\n",
       "<p>1827 rows × 7 columns</p>\n",
       "</div>"
      ],
      "text/plain": [
       "               0      1      2      3     4      5    6\n",
       "0       date(日期)  Q(径流)  E(蒸发)  P(降水)  Year  Month  Day\n",
       "1       1983/1/1    6.5    0.9    0.3  1983      1    1\n",
       "2       1983/1/2   6.99      0    0.2  1983      1    2\n",
       "3       1983/1/3   6.99    2.2    2.6  1983      1    3\n",
       "4       1983/1/4   7.49    0.1   27.7  1983      1    4\n",
       "...          ...    ...    ...    ...   ...    ...  ...\n",
       "1822  1987/12/27   4.52    0.1    2.4  1987     12   27\n",
       "1823  1987/12/28   4.59    0.9    1.1  1987     12   28\n",
       "1824  1987/12/29   1.38      1      1  1987     12   29\n",
       "1825  1987/12/30   6.84    1.1      0  1987     12   30\n",
       "1826  1987/12/31   5.74    0.4      0  1987     12   31\n",
       "\n",
       "[1827 rows x 7 columns]"
      ]
     },
     "execution_count": 36,
     "metadata": {},
     "output_type": "execute_result"
    }
   ],
   "source": [
    "# 加载CSV数据\n",
    "data = pd.read_csv(\"./new_data.csv\", header=None)\n",
    "data"
   ]
  },
  {
   "cell_type": "code",
   "execution_count": 37,
   "metadata": {},
   "outputs": [],
   "source": [
    "data = data[1:]"
   ]
  },
  {
   "cell_type": "code",
   "execution_count": 38,
   "metadata": {},
   "outputs": [],
   "source": [
    "# 将数据拆分为特征和标签\n",
    "X = data.iloc[:, [2, 3, 4, 5, 6]].values\n",
    "y = data.iloc[:, 1].values"
   ]
  },
  {
   "cell_type": "code",
   "execution_count": 39,
   "metadata": {},
   "outputs": [],
   "source": [
    "# 将数据集拆分为训练集和测试集\n",
    "X_train, X_test, y_train, y_test = train_test_split(X, y, test_size=0.3, random_state=42)"
   ]
  },
  {
   "cell_type": "code",
   "execution_count": 40,
   "metadata": {},
   "outputs": [],
   "source": [
    "# 定义基学习器\n",
    "models = [RandomForestRegressor(n_estimators=100, random_state=0),\n",
    "          GradientBoostingRegressor(n_estimators=100, random_state=0),\n",
    "          LinearRegression()]"
   ]
  },
  {
   "cell_type": "code",
   "execution_count": 41,
   "metadata": {},
   "outputs": [],
   "source": [
    "# 定义元学习器\n",
    "meta_model = LinearRegression()"
   ]
  },
  {
   "cell_type": "code",
   "execution_count": 42,
   "metadata": {},
   "outputs": [],
   "source": [
    "# 定义k-fold交叉验证的参数\n",
    "kf = KFold(n_splits=5, shuffle=True, random_state=0)\n",
    "\n",
    "# 定义元特征数组和元标签数组\n",
    "meta_features = np.zeros((X.shape[0], len(models)))\n",
    "meta_labels = np.zeros(X.shape[0])"
   ]
  },
  {
   "cell_type": "code",
   "execution_count": 43,
   "metadata": {},
   "outputs": [
    {
     "name": "stdout",
     "output_type": "stream",
     "text": [
      "Processing fold 1\n",
      "Processing fold 2\n",
      "Processing fold 3\n",
      "Processing fold 4\n",
      "Processing fold 5\n"
     ]
    }
   ],
   "source": [
    "# 对每个fold进行训练和预测\n",
    "for fold, (train_index, test_index) in enumerate(kf.split(X)):\n",
    "    print(f'Processing fold {fold+1}')\n",
    "\n",
    "    # 分割训练和测试集\n",
    "    X_train, X_test = X[train_index], X[test_index]\n",
    "    y_train, y_test = y[train_index], y[test_index]\n",
    "\n",
    "    # 对每个基学习器进行训练和预测\n",
    "    for i, model in enumerate(models):\n",
    "        model.fit(X_train, y_train)\n",
    "        y_pred = model.predict(X_test)\n",
    "        meta_features[test_index, i] = y_pred\n",
    "\n",
    "    # 对元学习器进行训练\n",
    "    meta_model.fit(meta_features[train_index], y_train)\n",
    "\n",
    "    # 对元学习器进行预测\n",
    "    meta_labels[test_index] = meta_model.predict(meta_features[test_index])"
   ]
  },
  {
   "cell_type": "code",
   "execution_count": 44,
   "metadata": {},
   "outputs": [
    {
     "data": {
      "text/plain": [
       "array([6.5 , 6.99, 6.99, ..., 1.38, 6.84, 5.74])"
      ]
     },
     "execution_count": 44,
     "metadata": {},
     "output_type": "execute_result"
    }
   ],
   "source": [
    "np.set_printoptions(suppress = True)\n",
    "float_y = np.array([float(x) for x in y])\n",
    "float_y"
   ]
  },
  {
   "cell_type": "code",
   "execution_count": 45,
   "metadata": {},
   "outputs": [
    {
     "name": "stdout",
     "output_type": "stream",
     "text": [
      "Ensemble MAE: 13.92\n",
      "Ensemble R2: 0.24\n"
     ]
    }
   ],
   "source": [
    "# 计算集成预测的MAE和R2\n",
    "ensemble_mae = mean_absolute_error(float_y, meta_labels)\n",
    "ensemble_r2 = np.corrcoef(float_y, meta_labels)[0, 1]**2\n",
    "\n",
    "print(f'Ensemble MAE: {ensemble_mae:.2f}')\n",
    "print(f'Ensemble R2: {ensemble_r2:.2f}')"
   ]
  },
  {
   "cell_type": "code",
   "execution_count": 46,
   "metadata": {},
   "outputs": [],
   "source": [
    "# 相对误差绝对值的平均值（Mean Absolute Percentage Error，MAPE）\n",
    "def mean_absolute_percentage_error(y_true, y_pred):\n",
    "    return np.mean(np.abs((y_true - y_pred) / y_true)) * 100"
   ]
  },
  {
   "cell_type": "code",
   "execution_count": 47,
   "metadata": {},
   "outputs": [],
   "source": [
    "# Nash效率系数（Nash-Sutcliffe efficiency coefficient，NSE）\n",
    "def nash_sutcliffe_efficiency(y_true, y_pred):\n",
    "    numerator = np.sum((y_true - y_pred) ** 2)\n",
    "    denominator = np.sum((y_true - np.mean(y_true)) ** 2)\n",
    "    return 1 - numerator / denominator"
   ]
  },
  {
   "cell_type": "code",
   "execution_count": 48,
   "metadata": {},
   "outputs": [],
   "source": [
    "# 相对均方根误差（Root Mean Square Percentage Error，RMSPE）\n",
    "def root_mean_square_percentage_error(y_true, y_pred):\n",
    "    return np.sqrt(np.mean(np.square((y_true - y_pred) / y_true)))"
   ]
  },
  {
   "cell_type": "code",
   "execution_count": 49,
   "metadata": {},
   "outputs": [],
   "source": [
    "# 合格率（Accuracy）\n",
    "def accuracy(y_true, y_pred, tolerance=0.1):\n",
    "    errors = np.abs((y_true - y_pred) / y_true)\n",
    "    return np.sum(errors <= tolerance) / len(errors)"
   ]
  },
  {
   "cell_type": "code",
   "execution_count": 50,
   "metadata": {},
   "outputs": [
    {
     "name": "stdout",
     "output_type": "stream",
     "text": [
      "MAPE: 167.04729332906422\n",
      "NSE: 0.22456184305178517\n",
      "RMSPE: 3.636224768781798\n",
      "Accuracy: 0.07228915662650602\n"
     ]
    }
   ],
   "source": [
    "mape = mean_absolute_percentage_error(float_y, meta_labels)\n",
    "nse = nash_sutcliffe_efficiency(float_y, meta_labels)\n",
    "rmspe = root_mean_square_percentage_error(float_y, meta_labels)\n",
    "acc = accuracy(float_y, meta_labels)\n",
    "print('MAPE:', mape)\n",
    "print('NSE:', nse)\n",
    "print('RMSPE:', rmspe)\n",
    "print('Accuracy:', acc)"
   ]
  },
  {
   "cell_type": "code",
   "execution_count": null,
   "metadata": {},
   "outputs": [],
   "source": []
  }
 ],
 "metadata": {
  "kernelspec": {
   "display_name": "runoff",
   "language": "python",
   "name": "python3"
  },
  "language_info": {
   "codemirror_mode": {
    "name": "ipython",
    "version": 3
   },
   "file_extension": ".py",
   "mimetype": "text/x-python",
   "name": "python",
   "nbconvert_exporter": "python",
   "pygments_lexer": "ipython3",
   "version": "3.7.16"
  },
  "orig_nbformat": 4
 },
 "nbformat": 4,
 "nbformat_minor": 2
}
