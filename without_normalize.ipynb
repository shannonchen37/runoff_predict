{
 "cells": [
  {
   "cell_type": "code",
   "execution_count": 1,
   "metadata": {},
   "outputs": [],
   "source": [
    "# 导入必要的库\n",
    "import pandas as pd\n",
    "from sklearn.ensemble import RandomForestRegressor\n",
    "from sklearn.neural_network import MLPRegressor\n",
    "from sklearn.linear_model import LinearRegression\n",
    "from sklearn.svm import SVR\n",
    "from sklearn.model_selection import train_test_split\n",
    "from sklearn.metrics import mean_squared_error\n",
    "import numpy as np"
   ]
  },
  {
   "cell_type": "code",
   "execution_count": 2,
   "metadata": {},
   "outputs": [
    {
     "data": {
      "text/html": [
       "<div>\n",
       "<style scoped>\n",
       "    .dataframe tbody tr th:only-of-type {\n",
       "        vertical-align: middle;\n",
       "    }\n",
       "\n",
       "    .dataframe tbody tr th {\n",
       "        vertical-align: top;\n",
       "    }\n",
       "\n",
       "    .dataframe thead th {\n",
       "        text-align: right;\n",
       "    }\n",
       "</style>\n",
       "<table border=\"1\" class=\"dataframe\">\n",
       "  <thead>\n",
       "    <tr style=\"text-align: right;\">\n",
       "      <th></th>\n",
       "      <th>0</th>\n",
       "      <th>1</th>\n",
       "      <th>2</th>\n",
       "      <th>3</th>\n",
       "      <th>4</th>\n",
       "      <th>5</th>\n",
       "      <th>6</th>\n",
       "    </tr>\n",
       "  </thead>\n",
       "  <tbody>\n",
       "    <tr>\n",
       "      <th>0</th>\n",
       "      <td>date(日期)</td>\n",
       "      <td>Q(径流)</td>\n",
       "      <td>E(蒸发)</td>\n",
       "      <td>P(降水)</td>\n",
       "      <td>Year</td>\n",
       "      <td>Month</td>\n",
       "      <td>Day</td>\n",
       "    </tr>\n",
       "    <tr>\n",
       "      <th>1</th>\n",
       "      <td>1983/1/1</td>\n",
       "      <td>6.5</td>\n",
       "      <td>0.9</td>\n",
       "      <td>0.3</td>\n",
       "      <td>1983</td>\n",
       "      <td>1</td>\n",
       "      <td>1</td>\n",
       "    </tr>\n",
       "    <tr>\n",
       "      <th>2</th>\n",
       "      <td>1983/1/2</td>\n",
       "      <td>6.99</td>\n",
       "      <td>0</td>\n",
       "      <td>0.2</td>\n",
       "      <td>1983</td>\n",
       "      <td>1</td>\n",
       "      <td>2</td>\n",
       "    </tr>\n",
       "    <tr>\n",
       "      <th>3</th>\n",
       "      <td>1983/1/3</td>\n",
       "      <td>6.99</td>\n",
       "      <td>2.2</td>\n",
       "      <td>2.6</td>\n",
       "      <td>1983</td>\n",
       "      <td>1</td>\n",
       "      <td>3</td>\n",
       "    </tr>\n",
       "    <tr>\n",
       "      <th>4</th>\n",
       "      <td>1983/1/4</td>\n",
       "      <td>7.49</td>\n",
       "      <td>0.1</td>\n",
       "      <td>27.7</td>\n",
       "      <td>1983</td>\n",
       "      <td>1</td>\n",
       "      <td>4</td>\n",
       "    </tr>\n",
       "    <tr>\n",
       "      <th>...</th>\n",
       "      <td>...</td>\n",
       "      <td>...</td>\n",
       "      <td>...</td>\n",
       "      <td>...</td>\n",
       "      <td>...</td>\n",
       "      <td>...</td>\n",
       "      <td>...</td>\n",
       "    </tr>\n",
       "    <tr>\n",
       "      <th>1822</th>\n",
       "      <td>1987/12/27</td>\n",
       "      <td>4.52</td>\n",
       "      <td>0.1</td>\n",
       "      <td>2.4</td>\n",
       "      <td>1987</td>\n",
       "      <td>12</td>\n",
       "      <td>27</td>\n",
       "    </tr>\n",
       "    <tr>\n",
       "      <th>1823</th>\n",
       "      <td>1987/12/28</td>\n",
       "      <td>4.59</td>\n",
       "      <td>0.9</td>\n",
       "      <td>1.1</td>\n",
       "      <td>1987</td>\n",
       "      <td>12</td>\n",
       "      <td>28</td>\n",
       "    </tr>\n",
       "    <tr>\n",
       "      <th>1824</th>\n",
       "      <td>1987/12/29</td>\n",
       "      <td>1.38</td>\n",
       "      <td>1</td>\n",
       "      <td>1</td>\n",
       "      <td>1987</td>\n",
       "      <td>12</td>\n",
       "      <td>29</td>\n",
       "    </tr>\n",
       "    <tr>\n",
       "      <th>1825</th>\n",
       "      <td>1987/12/30</td>\n",
       "      <td>6.84</td>\n",
       "      <td>1.1</td>\n",
       "      <td>0</td>\n",
       "      <td>1987</td>\n",
       "      <td>12</td>\n",
       "      <td>30</td>\n",
       "    </tr>\n",
       "    <tr>\n",
       "      <th>1826</th>\n",
       "      <td>1987/12/31</td>\n",
       "      <td>5.74</td>\n",
       "      <td>0.4</td>\n",
       "      <td>0</td>\n",
       "      <td>1987</td>\n",
       "      <td>12</td>\n",
       "      <td>31</td>\n",
       "    </tr>\n",
       "  </tbody>\n",
       "</table>\n",
       "<p>1827 rows × 7 columns</p>\n",
       "</div>"
      ],
      "text/plain": [
       "               0      1      2      3     4      5    6\n",
       "0       date(日期)  Q(径流)  E(蒸发)  P(降水)  Year  Month  Day\n",
       "1       1983/1/1    6.5    0.9    0.3  1983      1    1\n",
       "2       1983/1/2   6.99      0    0.2  1983      1    2\n",
       "3       1983/1/3   6.99    2.2    2.6  1983      1    3\n",
       "4       1983/1/4   7.49    0.1   27.7  1983      1    4\n",
       "...          ...    ...    ...    ...   ...    ...  ...\n",
       "1822  1987/12/27   4.52    0.1    2.4  1987     12   27\n",
       "1823  1987/12/28   4.59    0.9    1.1  1987     12   28\n",
       "1824  1987/12/29   1.38      1      1  1987     12   29\n",
       "1825  1987/12/30   6.84    1.1      0  1987     12   30\n",
       "1826  1987/12/31   5.74    0.4      0  1987     12   31\n",
       "\n",
       "[1827 rows x 7 columns]"
      ]
     },
     "execution_count": 2,
     "metadata": {},
     "output_type": "execute_result"
    }
   ],
   "source": [
    "# 加载CSV数据\n",
    "data = pd.read_csv(\"./new_data.csv\", header=None)\n",
    "data"
   ]
  },
  {
   "cell_type": "code",
   "execution_count": 3,
   "metadata": {},
   "outputs": [],
   "source": [
    "data = data[1:]"
   ]
  },
  {
   "cell_type": "code",
   "execution_count": 4,
   "metadata": {},
   "outputs": [],
   "source": [
    "# 将数据拆分为特征和标签\n",
    "X = data.iloc[:, [2, 3, 4, 5, 6]].values\n",
    "y = data.iloc[:, 1].values"
   ]
  },
  {
   "cell_type": "code",
   "execution_count": 5,
   "metadata": {},
   "outputs": [
    {
     "name": "stderr",
     "output_type": "stream",
     "text": [
      "/home/chenshenrong/.conda/envs/runoff/lib/python3.7/site-packages/ipykernel_launcher.py:1: DeprecationWarning: `np.float` is a deprecated alias for the builtin `float`. To silence this warning, use `float` by itself. Doing this will not modify any behavior and is safe. If you specifically wanted the numpy scalar type, use `np.float64` here.\n",
      "Deprecated in NumPy 1.20; for more details and guidance: https://numpy.org/devdocs/release/1.20.0-notes.html#deprecations\n",
      "  \"\"\"Entry point for launching an IPython kernel.\n",
      "/home/chenshenrong/.conda/envs/runoff/lib/python3.7/site-packages/ipykernel_launcher.py:2: DeprecationWarning: `np.float` is a deprecated alias for the builtin `float`. To silence this warning, use `float` by itself. Doing this will not modify any behavior and is safe. If you specifically wanted the numpy scalar type, use `np.float64` here.\n",
      "Deprecated in NumPy 1.20; for more details and guidance: https://numpy.org/devdocs/release/1.20.0-notes.html#deprecations\n",
      "  \n"
     ]
    }
   ],
   "source": [
    "X_float = X.astype(np.float)\n",
    "y_float = y.astype(np.float)"
   ]
  },
  {
   "cell_type": "code",
   "execution_count": 6,
   "metadata": {},
   "outputs": [],
   "source": [
    "# 将数据集拆分为训练集和测试集\n",
    "X_train, X_test, y_train, y_test = train_test_split(X_float, y_float, test_size=0.3, random_state=42)"
   ]
  },
  {
   "cell_type": "code",
   "execution_count": 7,
   "metadata": {},
   "outputs": [
    {
     "data": {
      "text/plain": [
       "RandomForestRegressor(random_state=0)"
      ]
     },
     "execution_count": 7,
     "metadata": {},
     "output_type": "execute_result"
    }
   ],
   "source": [
    "# 创建随机森林回归模型，并训练模型\n",
    "rf_reg = RandomForestRegressor(n_estimators=100, random_state=0)\n",
    "rf_reg.fit(X_train, y_train)"
   ]
  },
  {
   "cell_type": "code",
   "execution_count": 8,
   "metadata": {},
   "outputs": [],
   "source": [
    "# 对测试集进行预测\n",
    "rf_y_pred = rf_reg.predict(X_test)"
   ]
  },
  {
   "cell_type": "code",
   "execution_count": 9,
   "metadata": {},
   "outputs": [
    {
     "name": "stdout",
     "output_type": "stream",
     "text": [
      "随机森林回归模型的均方误差： 432.2376318853466\n"
     ]
    }
   ],
   "source": [
    "# 输出模型的均方误差\n",
    "rf_mse = mean_squared_error(y_test, rf_y_pred)\n",
    "print('随机森林回归模型的均方误差：', rf_mse)"
   ]
  },
  {
   "cell_type": "code",
   "execution_count": 10,
   "metadata": {},
   "outputs": [
    {
     "data": {
      "text/plain": [
       "LinearRegression()"
      ]
     },
     "execution_count": 10,
     "metadata": {},
     "output_type": "execute_result"
    }
   ],
   "source": [
    "# 创建多元线性回归模型，并训练模型\n",
    "multi_linear_reg = LinearRegression()\n",
    "multi_linear_reg.fit(X_train, y_train)"
   ]
  },
  {
   "cell_type": "code",
   "execution_count": 11,
   "metadata": {},
   "outputs": [],
   "source": [
    "# 对测试集进行预测\n",
    "multi_linear_y_pred = multi_linear_reg.predict(X_test)"
   ]
  },
  {
   "cell_type": "code",
   "execution_count": 12,
   "metadata": {},
   "outputs": [
    {
     "name": "stdout",
     "output_type": "stream",
     "text": [
      "多元线性回归模型的均方误差： 606.0780218365761\n"
     ]
    }
   ],
   "source": [
    "# 输出模型的均方误差\n",
    "multi_linear_mse = mean_squared_error(y_test, multi_linear_y_pred)\n",
    "print('多元线性回归模型的均方误差：', multi_linear_mse)"
   ]
  },
  {
   "cell_type": "code",
   "execution_count": 13,
   "metadata": {},
   "outputs": [
    {
     "data": {
      "text/plain": [
       "MLPRegressor(hidden_layer_sizes=(100, 50), max_iter=1000)"
      ]
     },
     "execution_count": 13,
     "metadata": {},
     "output_type": "execute_result"
    }
   ],
   "source": [
    "# 创建多层感知器模型，并训练模型\n",
    "mlp_reg = MLPRegressor(hidden_layer_sizes=(100, 50), activation='relu', solver='adam', max_iter=1000)\n",
    "mlp_reg.fit(X_train, y_train)"
   ]
  },
  {
   "cell_type": "code",
   "execution_count": 14,
   "metadata": {},
   "outputs": [],
   "source": [
    "# 对测试集进行预测\n",
    "mlp_y_pred = mlp_reg.predict(X_test)"
   ]
  },
  {
   "cell_type": "code",
   "execution_count": 15,
   "metadata": {},
   "outputs": [
    {
     "name": "stdout",
     "output_type": "stream",
     "text": [
      "多层感知器模型的均方误差： 648.286875185217\n"
     ]
    }
   ],
   "source": [
    "# 输出模型的均方误差\n",
    "mlp_mse = mean_squared_error(y_test, mlp_y_pred)\n",
    "print('多层感知器模型的均方误差：', mlp_mse)"
   ]
  },
  {
   "cell_type": "code",
   "execution_count": 16,
   "metadata": {},
   "outputs": [
    {
     "data": {
      "text/plain": [
       "SVR(C=100, gamma=0.1)"
      ]
     },
     "execution_count": 16,
     "metadata": {},
     "output_type": "execute_result"
    }
   ],
   "source": [
    "# 创建支持向量机模型，并训练模型\n",
    "svm_reg = SVR(kernel='rbf', C=100, gamma=0.1, epsilon=.1)\n",
    "svm_reg.fit(X_train, y_train)"
   ]
  },
  {
   "cell_type": "code",
   "execution_count": 17,
   "metadata": {},
   "outputs": [],
   "source": [
    "# 对测试集进行预测\n",
    "svm_y_pred = svm_reg.predict(X_test)"
   ]
  },
  {
   "cell_type": "code",
   "execution_count": 18,
   "metadata": {},
   "outputs": [
    {
     "name": "stdout",
     "output_type": "stream",
     "text": [
      "多层感知器模型的均方误差： 496.64842679118556\n"
     ]
    }
   ],
   "source": [
    "# 输出模型的均方误差\n",
    "svm_mse = mean_squared_error(y_test, svm_y_pred)\n",
    "print('多层感知器模型的均方误差：', svm_mse)"
   ]
  },
  {
   "cell_type": "code",
   "execution_count": 19,
   "metadata": {},
   "outputs": [],
   "source": [
    "# 相对误差绝对值的平均值（Mean Absolute Percentage Error，MAPE）\n",
    "def mean_absolute_percentage_error(y_true, y_pred):\n",
    "    return np.mean(np.abs((y_true - y_pred) / y_true)) * 100"
   ]
  },
  {
   "cell_type": "code",
   "execution_count": 20,
   "metadata": {},
   "outputs": [],
   "source": [
    "# Nash效率系数（Nash-Sutcliffe efficiency coefficient，NSE）\n",
    "def nash_sutcliffe_efficiency(y_true, y_pred):\n",
    "    numerator = np.sum((y_true - y_pred) ** 2)\n",
    "    denominator = np.sum((y_true - np.mean(y_true)) ** 2)\n",
    "    return 1 - numerator / denominator"
   ]
  },
  {
   "cell_type": "code",
   "execution_count": 21,
   "metadata": {},
   "outputs": [],
   "source": [
    "# 相对均方根误差（Root Mean Square Percentage Error，RMSPE）\n",
    "def root_mean_square_percentage_error(y_true, y_pred):\n",
    "    return np.sqrt(np.mean(np.square((y_true - y_pred) / y_true)))"
   ]
  },
  {
   "cell_type": "code",
   "execution_count": 22,
   "metadata": {},
   "outputs": [],
   "source": [
    "# 合格率（Accuracy）\n",
    "def accuracy(y_true, y_pred, tolerance=0.1):\n",
    "    errors = np.abs((y_true - y_pred) / y_true)\n",
    "    return np.sum(errors <= tolerance) / len(errors)"
   ]
  },
  {
   "cell_type": "code",
   "execution_count": 23,
   "metadata": {},
   "outputs": [],
   "source": [
    "def index(y_pred = rf_y_pred):\n",
    "    mape = mean_absolute_percentage_error(y_test, y_pred)\n",
    "    nse = nash_sutcliffe_efficiency(y_test, y_pred)\n",
    "    rmspe = root_mean_square_percentage_error(y_test, y_pred)\n",
    "    acc = accuracy(y_test, y_pred)\n",
    "    print('MAPE:', mape)\n",
    "    print('NSE:', nse)\n",
    "    print('RMSPE:', rmspe)\n",
    "    print('Accuracy:', acc)"
   ]
  },
  {
   "cell_type": "code",
   "execution_count": 24,
   "metadata": {},
   "outputs": [
    {
     "name": "stdout",
     "output_type": "stream",
     "text": [
      "Random Forest index: \n",
      "MAPE: 81.82744263727048\n",
      "NSE: 0.3673663914697809\n",
      "RMSPE: 1.7600697161776628\n",
      "Accuracy: 0.17335766423357665\n"
     ]
    }
   ],
   "source": [
    "print(\"Random Forest index: \")\n",
    "index(rf_y_pred)"
   ]
  },
  {
   "cell_type": "code",
   "execution_count": 25,
   "metadata": {},
   "outputs": [
    {
     "name": "stdout",
     "output_type": "stream",
     "text": [
      "multi_linear index: \n",
      "MAPE: 215.45027694762524\n",
      "NSE: 0.1129293293300393\n",
      "RMSPE: 5.20058583895857\n",
      "Accuracy: 0.06386861313868614\n"
     ]
    }
   ],
   "source": [
    "print(\"multi_linear index: \")\n",
    "index(multi_linear_y_pred)"
   ]
  },
  {
   "cell_type": "code",
   "execution_count": 26,
   "metadata": {},
   "outputs": [
    {
     "name": "stdout",
     "output_type": "stream",
     "text": [
      "MLP index: \n",
      "MAPE: 142.25900031430947\n",
      "NSE: 0.05115141543253621\n",
      "RMSPE: 3.3136801748559463\n",
      "Accuracy: 0.072992700729927\n"
     ]
    }
   ],
   "source": [
    "print(\"MLP index: \")\n",
    "index(mlp_y_pred)"
   ]
  },
  {
   "cell_type": "code",
   "execution_count": 27,
   "metadata": {},
   "outputs": [
    {
     "name": "stdout",
     "output_type": "stream",
     "text": [
      "SVM index: \n",
      "MAPE: 92.30887284991672\n",
      "NSE: 0.2730931708993205\n",
      "RMSPE: 1.7339562074738426\n",
      "Accuracy: 0.13138686131386862\n"
     ]
    }
   ],
   "source": [
    "print(\"SVM index: \")\n",
    "index(svm_y_pred)"
   ]
  }
 ],
 "metadata": {
  "kernelspec": {
   "display_name": "runoff",
   "language": "python",
   "name": "python3"
  },
  "language_info": {
   "codemirror_mode": {
    "name": "ipython",
    "version": 3
   },
   "file_extension": ".py",
   "mimetype": "text/x-python",
   "name": "python",
   "nbconvert_exporter": "python",
   "pygments_lexer": "ipython3",
   "version": "3.7.16"
  },
  "orig_nbformat": 4
 },
 "nbformat": 4,
 "nbformat_minor": 2
}
